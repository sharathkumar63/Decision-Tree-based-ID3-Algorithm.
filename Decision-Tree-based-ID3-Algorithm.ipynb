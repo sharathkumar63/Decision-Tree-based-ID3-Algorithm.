{
 "cells": [
  {
   "cell_type": "code",
   "execution_count": 1,
   "id": "0f952c95",
   "metadata": {},
   "outputs": [
    {
     "name": "stdout",
     "output_type": "stream",
     "text": [
      "     Outlook Temperature Humidity    Wind PlayTennis\n",
      "0      Sunny         Hot     High    Weak         No\n",
      "1      Sunny         Hot     High  Strong         No\n",
      "2   Overcast         Hot     High    Weak        Yes\n",
      "3       Rain        Mild     High    Weak        Yes\n",
      "4       Rain        Cool   Normal    Weak        Yes\n",
      "5       Rain        Cool   Normal  Strong         No\n",
      "6   Overcast        Cool   Normal  Strong        Yes\n",
      "7      Sunny        Mild     High    Weak         No\n",
      "8      Sunny        Cool   Normal    Weak        Yes\n",
      "9       Rain        Mild   Normal    Weak        Yes\n",
      "10     Sunny        Mild   Normal  Strong        Yes\n",
      "11  Overcast        Mild     High  Strong        Yes\n",
      "12  Overcast         Hot   Normal    Weak        Yes\n",
      "13      Rain        Mild     High  Strong         No\n",
      "List of attribut name\n",
      "    Outlook  Temperature  Humidity  Wind  PlayTennis\n",
      "0         0            0         0     0           0\n",
      "1         0            0         0     1           0\n",
      "2         1            0         0     0           1\n",
      "3         2            1         0     0           1\n",
      "4         2            2         1     0           1\n",
      "5         2            2         1     1           0\n",
      "6         1            2         1     1           1\n",
      "7         0            1         0     0           0\n",
      "8         0            2         1     0           1\n",
      "9         2            1         1     0           1\n",
      "10        0            1         1     1           1\n",
      "11        1            1         0     1           1\n",
      "12        1            0         1     0           1\n",
      "13        2            1         0     1           0\n",
      "The tree structure\n",
      "{'Outlook': {0: {'Humidity': {0: 0, 1: 1}}, 1: 1, 2: {'Wind': {0: 1, 1: 0}}}}\n"
     ]
    }
   ],
   "source": [
    "\n",
    "import pandas as pd\n",
    "from pprint import pprint\n",
    "from sklearn.feature_selection import mutual_info_classif\n",
    "from collections import Counter\n",
    "\n",
    "def id3(df, target_attribute, attribute_names, default_class=None):\n",
    "    cnt=Counter(x for x in df[target_attribute])\n",
    "    if len(cnt)==1:\n",
    "        return next(iter(cnt))\n",
    "    \n",
    "    elif df.empty or (not attribute_names):\n",
    "         return default_class\n",
    "\n",
    "    else:\n",
    "        gainz = mutual_info_classif(df[attribute_names],df[target_attribute],discrete_features=True)\n",
    "        index_of_max=gainz.tolist().index(max(gainz))\n",
    "        best_attr=attribute_names[index_of_max]\n",
    "        tree={best_attr:{}}\n",
    "        remaining_attribute_names=[i for i in attribute_names if i!=best_attr]\n",
    "        \n",
    "        for attr_val, data_subset in df.groupby(best_attr):\n",
    "            subtree=id3(data_subset, target_attribute, remaining_attribute_names,default_class)\n",
    "            tree[best_attr][attr_val]=subtree\n",
    "        \n",
    "        return tree\n",
    "    \n",
    "\n",
    "df=pd.read_csv(\"p-tennis.csv\")\n",
    "print(df)\n",
    "attribute_names=df.columns.tolist()\n",
    "print(\"List of attribut name\")\n",
    "\n",
    "attribute_names.remove(\"PlayTennis\")\n",
    "\n",
    "\n",
    "\n",
    "for colname in df.select_dtypes(\"object\"):\n",
    "    df[colname], _ = df[colname].factorize()\n",
    "    \n",
    "print(df)\n",
    "\n",
    "tree= id3(df,\"PlayTennis\", attribute_names)\n",
    "print(\"The tree structure\")\n",
    "pprint(tree)"
   ]
  },
  {
   "cell_type": "code",
   "execution_count": null,
   "id": "98bff5be",
   "metadata": {},
   "outputs": [],
   "source": []
  }
 ],
 "metadata": {
  "kernelspec": {
   "display_name": "Python 3 (ipykernel)",
   "language": "python",
   "name": "python3"
  },
  "language_info": {
   "codemirror_mode": {
    "name": "ipython",
    "version": 3
   },
   "file_extension": ".py",
   "mimetype": "text/x-python",
   "name": "python",
   "nbconvert_exporter": "python",
   "pygments_lexer": "ipython3",
   "version": "3.8.10"
  }
 },
 "nbformat": 4,
 "nbformat_minor": 5
}
